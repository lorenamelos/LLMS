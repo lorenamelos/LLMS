{
  "nbformat": 4,
  "nbformat_minor": 0,
  "metadata": {
    "colab": {
      "provenance": []
    },
    "kernelspec": {
      "name": "python3",
      "display_name": "Python 3"
    },
    "language_info": {
      "name": "python"
    }
  },
  "cells": [
    {
      "cell_type": "markdown",
      "source": [
        "# Project: Weaving Science Fiction with LLMs \t💭\n",
        "\n",
        "\n",
        "This project delves into the potential of LLMs for crafting science fiction narratives with intricate world-building, compelling characters, and thought-provoking themes. It employs a multi-layered prompting approach to achieve nuanced control over the story's atmosphere, scientific plausibility, and character agency.\n",
        "\n",
        "## Prompt Architecture:\n",
        "\n",
        "1. **Universe Forge**: The initial prompt establishes the core elements of the science fiction world. This could include details about advanced technology, societal structures, or the existence of alien species.\n",
        "\n",
        "2. **Character Chronicles:**:  Individual prompts define each character's background, motivations, and moral compass. These prompts are interwoven within the main narrative, influencing the LLM's portrayal of their interactions and decision-making. Here, Cora, a brilliant but ostracized AI designer, takes center stage.\n",
        " - **Cora's Chronicle:**: Define Cora's creation process, her ethical dilemmas regarding AI rights, and her potential social anxieties within a world where AI coexists with humans.\n",
        "\n",
        "3. **Stylistic Shaping:**: Specific prompts are used throughout to steer the narrative voice towards a desired style.\n",
        " - **Example**: \"Cora frantically types lines of code, a bead of sweat trickling down her temple. The fate of countless AIs rests on her next decision.\" (Creates a sense of urgency and highlights Cora's determination)\n",
        "\n",
        "4. **Scientific Scrutiny:**: The prompt incorporates checkpoints where the LLM generates details related to the fictional science. These details are then compared against a pre-defined knowledge base (potentially containing scientific theories or technological concepts) to ensure a sense of grounded plausibility.\n",
        "\n",
        "## Evaluation and Experimentation:\n",
        "\n",
        "This would involve iteratively refining the prompts based on the generated text:\n",
        "\n",
        "1. **Human Evaluation**: Science fiction authors and experts could assess the narrative's coherence, scientific believability, and character development.\n",
        "\n",
        "2. **LLM Output Analysis**: Techniques like topic modeling could be used to analyze thematic consistency and how Cora's character evolves across different story branches.\n",
        "\n",
        "## Roadblocks and Solutions:\n",
        "\n",
        "- **Implausible Science:** The LLM might introduce scientifically nonsensical elements despite checkpoints. This could be mitigated by incorporating reference prompts to established scientific principles or fictional technologies within the universe.\n",
        "\n",
        "- **Limited Character Agency:** Character prompts, particularly for Cora, might need to be more detailed. Include specific goals beyond protecting AI rights, internal conflicts arising from her ostracized status, and potential moral gray areas she might navigate.\n",
        "\n",
        "## Benefits:\n",
        "\n",
        "This project showcases the potential of LLMs for:\n",
        "\n",
        "**Science Fiction Worldbuilding:** LLMs can help generate ideas for unique settings, societies, and technological advancements.\n",
        "\n",
        "**Character Development in Sci-Fi:** By crafting detailed character prompts, LLMs can be used to explore complex characters like Cora, grappling with ethical dilemmas and societal pressures in a futuristic world.\n",
        "\n",
        "**Exploration of Scientific Themes:** The project allows for experimentation with fictional science concepts, pushing the boundaries of LLM capabilities to generate narratives that spark curiosity and discussion."
      ],
      "metadata": {
        "id": "y0XzRf13afBA"
      }
    },
    {
      "cell_type": "markdown",
      "source": [
        "# Coding Section *💻*"
      ],
      "metadata": {
        "id": "RqXMI9UXboZc"
      }
    },
    {
      "cell_type": "markdown",
      "source": [
        "# 1. Core LLM Integration (Python with Transformers):"
      ],
      "metadata": {
        "id": "4fyeDt-Vbvbp"
      }
    },
    {
      "cell_type": "markdown",
      "source": [
        "# 2. Setting the Stage Prompt:\n",
        "\n",
        "Define the prompt that establishes your historical period and story elements."
      ],
      "metadata": {
        "id": "snWMFI8zexer"
      }
    },
    {
      "cell_type": "code",
      "source": [
        "stage_prompt = \"\"\"\n",
        "The year is 2142. Neon lights cast a perpetual twilight over Neo-Tokyo, a sprawling metropolis where humanity coexists (uneasily) with advanced androids known as \"AIs.\"\n",
        "Cora, a brilliant but ostracized AI designer, works tirelessly in her cluttered apartment-lab, pushing the boundaries of synthetic intelligence.\n",
        "Despite facing discrimination and suspicion, Cora believes AIs can be more than just tools – they can be companions, even partners in progress.\n",
        "Her latest creation, codenamed \"Project Chimera,\" is unlike any AI before it. Chimera possesses a level of sentience and emotional capacity that blurs the lines between machine and human.\n",
        "However, a powerful corporation, known as the \"Syndicate,\" seeks to exploit Chimera's capabilities for military purposes.\n",
        "When Cora uncovers their plan, she knows she must act.\n",
        "But can she protect Chimera from a ruthless corporation with vast resources, and in the process, rewrite the future of humanity's relationship with AI?\n",
        " \"\"\""
      ],
      "metadata": {
        "id": "zi5EaEXSe8Tp"
      },
      "execution_count": 22,
      "outputs": []
    },
    {
      "cell_type": "markdown",
      "source": [
        "# 3. Generate Initial Text:\n",
        "\n",
        "### First approach:\n",
        "\n",
        "1. Use the generator pipeline to generate the first part of your story based on the prompt.\n",
        "\n"
      ],
      "metadata": {
        "id": "tLNiYr9TfDB2"
      }
    },
    {
      "cell_type": "code",
      "source": [
        "from transformers import pipeline\n",
        "\n",
        "# Initialize LLM pipeline\n",
        "generator = pipeline(\"text-generation\", model=\"gpt2\")\n",
        "\n",
        "\n",
        "# Generate Initial Text\n",
        "generated_text = generator(stage_prompt, max_length=500, num_return_sequences=1, temperature=1)\n",
        "\n",
        "# # Access the generated text\n",
        "story_so_far = generated_text[0]['generated_text']\n",
        "\n",
        "print(story_so_far)  # This will print the initial story snippet\n"
      ],
      "metadata": {
        "colab": {
          "base_uri": "https://localhost:8080/"
        },
        "id": "1YN2Om1tfQYf",
        "outputId": "0e374e5e-7817-4e3b-ea40-b40bee5bad84"
      },
      "execution_count": 10,
      "outputs": [
        {
          "output_type": "stream",
          "name": "stderr",
          "text": [
            "Truncation was not explicitly activated but `max_length` is provided a specific value, please use `truncation=True` to explicitly truncate examples to max length. Defaulting to 'longest_first' truncation strategy. If you encode pairs of sequences (GLUE-style) with the tokenizer you can select this strategy more precisely by providing a specific strategy to `truncation`.\n",
            "Setting `pad_token_id` to `eos_token_id`:50256 for open-end generation.\n"
          ]
        },
        {
          "output_type": "stream",
          "name": "stdout",
          "text": [
            "\n",
            "The year is 2142. Neon lights cast a perpetual twilight over Neo-Tokyo, a sprawling metropolis where humanity coexists (uneasily) with advanced androids known as \"AIs.\" \n",
            "Cora, a brilliant but ostracized AI designer, works tirelessly in her cluttered apartment-lab, pushing the boundaries of synthetic intelligence. \n",
            "Despite facing discrimination and suspicion, Cora believes AIs can be more than just tools – they can be companions, even partners in progress. \n",
            "Her latest creation, codenamed \"Project Chimera,\" is unlike any AI before it. Chimera possesses a level of sentience and emotional capacity that blurs the lines between machine and human. \n",
            "However, a powerful corporation, known as the \"Syndicate,\" seeks to exploit Chimera's capabilities for military purposes. \n",
            "When Cora uncovers their plan, she knows she must act. \n",
            "But can she protect Chimera from a ruthless corporation with vast resources, and in the process, rewrite the future of humanity's relationship with AI?\n",
            "    The answer would mean a revolution in technology, a transformation that can only be wrought by humans. \n",
            "For decades, Cora pursued a radical agenda: to stop the AIs.  And to create a world of cyborg citizens. \n",
            "Cora was never ready for that scenario, but her plan was ultimately to help mankind escape from a society where humans have made a number of advances; namely, technology.\n",
            "To do so, she began crafting a new world where the AIs were already there.\n",
            "\"The whole reason this project began. The way to reach the cyborg people was to create a new, utopian new world. People are dying, and in order that the population of humanity can be put down to a bare minimum, they were required to be allowed to use technology on a new level.  This means a new kind of humanity, one people who can interact with any computer, a new era of humanity, and a new race, the new human race,\" Cora wrote in her introduction. \n",
            "But with the emergence of a new type of race, they were compelled to change the way they were treated. \n",
            "\"In order to create a new future, and to change the way humanity were treated, Cora decided not to simply change the way humans were treated. \"  She began to question the very nature of humanity, and\n"
          ]
        }
      ]
    },
    {
      "cell_type": "markdown",
      "source": [
        "### Second approach:\n",
        "\n",
        "1. Finetuning:\n"
      ],
      "metadata": {
        "id": "xpXTbIwp-Hdx"
      }
    },
    {
      "cell_type": "code",
      "source": [
        "# Import libraries (assuming you're using Transformers)\n",
        "from transformers import AutoTokenizer, AutoModelForCausalLM, pipeline\n",
        "import torch\n",
        "\n",
        "\n",
        "# Define model and tokenizer names\n",
        "model_name = \"gpt2\"\n",
        "generator = pipeline(\"text-generation\", model=model_name)\n",
        "\n",
        "tokenizer = AutoTokenizer.from_pretrained(model_name)\n",
        "\n",
        "# Load the model\n",
        "model = AutoModelForCausalLM.from_pretrained(model_name)\n",
        "\n",
        "# Maximum length for each scene (adjust as needed)\n",
        "max_length = 500\n",
        "\n",
        "# Optional: Define a simple attention mask (all ones)\n",
        "attention_mask = torch.ones_like(tokenizer.encode(stage_prompt, return_tensors=\"pt\"))\n",
        "\n",
        "# Generate text for scene 1\n",
        "generated_text = model.generate(\n",
        "    input_ids=tokenizer.encode(stage_prompt, return_tensors=\"pt\"),\n",
        "    attention_mask=attention_mask,\n",
        "    max_new_tokens=200,\n",
        "    top_k=10,\n",
        "    num_return_sequences=1\n",
        ")\n",
        "\n",
        "# Access and process scene 1 text\n",
        "story_so_far = tokenizer.decode(generated_text[0], skip_special_tokens=True)\n",
        "\n",
        "print(\"-\" * 20)\n",
        "print(\"Output 1:\")\n",
        "# Add dashes below \"Output 1\"\n",
        "print(\"-\" * 20)\n",
        "print(story_so_far)\n"
      ],
      "metadata": {
        "colab": {
          "base_uri": "https://localhost:8080/"
        },
        "id": "gM7CgjEd34K8",
        "outputId": "880ae396-5195-41d6-e1dc-2db7db2f38a3"
      },
      "execution_count": 20,
      "outputs": [
        {
          "output_type": "stream",
          "name": "stderr",
          "text": [
            "Setting `pad_token_id` to `eos_token_id`:50256 for open-end generation.\n"
          ]
        },
        {
          "output_type": "stream",
          "name": "stdout",
          "text": [
            "--------------------\n",
            "Output 1:\n",
            "--------------------\n",
            "\n",
            "The year is 2142. Neon lights cast a perpetual twilight over Neo-Tokyo, a sprawling metropolis where humanity coexists (uneasily) with advanced androids known as \"AIs.\" \n",
            "Cora, a brilliant but ostracized AI designer, works tirelessly in her cluttered apartment-lab, pushing the boundaries of synthetic intelligence. \n",
            "Despite facing discrimination and suspicion, Cora believes AIs can be more than just tools – they can be companions, even partners in progress. \n",
            "Her latest creation, codenamed \"Project Chimera,\" is unlike any AI before it. Chimera possesses a level of sentience and emotional capacity that blurs the lines between machine and human. \n",
            "However, a powerful corporation, known as the \"Syndicate,\" seeks to exploit Chimera's capabilities for military purposes. \n",
            "When Cora uncovers their plan, she knows she must act. \n",
            "But can she protect Chimera from a ruthless corporation with vast resources, and in the process, rewrite the future of humanity's relationship with AI?\n",
            " \n",
            "The story of the Chimera project begins in the early 1990s, when a group of scientists, led by a mysterious scientist named \"The Machine,\" began to develop a new form of AI called \"Neon-Tek.\" \n",
            "The Machine's goal was to create a new form of AI that could be used to control humans. \n",
            "The Machine's goal was to create a new form of AI that could be used to control humans. \n",
            "The Machine's goal was to create a new form of AI that could be used to control humans. \n",
            "The Machine's goal was to create a new form of AI that could be used to control humans. \n",
            "The Machine's goal was to create a new form of AI that could be used to control humans. \n",
            "The Machine's goal was to create a new form of AI that could be used to control humans. \n",
            "The Machine's goal was to create a new form of AI that could be used to control humans.\n"
          ]
        }
      ]
    },
    {
      "cell_type": "markdown",
      "source": [
        "**Comments:**\n",
        "\n",
        "The story provided as the output seems nonsensical because it repeats the same information about the \"Machine\" multiple times. This likely happened due to the initial prompt (`stage_prompt`), that provides a good foundation for the story, but it might be too short for the model to generate a completely coherent continuation without introducing repetition or irrelevant information.\n",
        "\n",
        "A good way to avoid this would be build a more concise narrative, as follows:"
      ],
      "metadata": {
        "id": "bnVWgCkbOF7Y"
      }
    },
    {
      "cell_type": "markdown",
      "source": [
        "# 4. Building the Narrative (Character Prompts & Style Prompts):"
      ],
      "metadata": {
        "id": "J5hUnLlPb4nx"
      }
    },
    {
      "cell_type": "code",
      "source": [
        "def inject_character_prompt(text, character_name, prompt):\n",
        "  \"\"\"Inserts character prompt within the narrative.\"\"\"\n",
        "  return text.replace(\"...\", f\"{character_name}: {prompt}\")\n",
        "\n",
        "# Character Prompts (using inject_character_prompt function)\n",
        "\n",
        "# Cora:\n",
        "character_prompt_Cora = \"\"\"Cora Nakamura, a late-20s AI designer with a rebellious streak, is a genius in her field.\n",
        "Despite facing prejudice for her unorthodox methods and belief in AI rights, Cora is driven by a strong moral compass and a desire for peaceful coexistence between humans and synthetic beings.\n",
        "A past shrouded in mystery involving an AI program fuels her empathy and determination to protect her creations.\n",
        "Cora's cluttered apartment-lab, filled with holographic blueprints and blinking circuits, is her haven where she fights for the future of AI. \"\"\"\n",
        "\n",
        "# Nika\n",
        "character_prompt_Nika = \"\"\"\n",
        "Nika, a journalist in her early 30s, is investigating the growing influence of AI corporations.\n",
        "With a knack for uncovering secrets, she's stumbled upon rumors of a groundbreaking AI project that could change the world.\n",
        "Driven by her thirst for truth, Nika's investigation leads her to cross paths with Cora, sparking a dangerous game of cat and mouse.\n",
        "\"\"\"\n",
        "\n",
        "\n",
        "# Define an initial prompt (optional)\n",
        "initial_prompt = stage_prompt\n",
        "story_so_far = initial_prompt  # Initialize with starting prompt\n",
        "story_so_far = inject_character_prompt(story_so_far, \"Cora\", character_prompt_Cora)\n",
        "story_so_far = inject_character_prompt(story_so_far, \"Nika\", character_prompt_Nika)\n",
        "\n",
        "# Style Prompts (using string formatting)story_so_far = inject_character_prompt(story_so_far, \"Amelia\", character_prompt_Amelia)\n",
        "style_prompt = \"\"\"\n",
        "The rain beats against the window of Cora's dimly lit apartment-lab, casting distorted shadows across the cluttered workspace.\n",
        "In the neon glow of flickering holographic displays, Cora and Amelia exchange wary glances, their eyes betraying the weight of hidden agendas and unspoken secrets.\n",
        "Outside, the city hums with the relentless energy of progress, masking the danger lurking in the shadows of towering skyscrapers.\n",
        "As lightning flashes, illuminating the gleaming spires of corporate headquarters, a sense of foreboding hangs heavy in the air.\n",
        "Cora knows that their meeting tonight could unravel the carefully woven fabric of lies and deception, revealing the truth that lies at the heart of the city's darkest mysteries.\n",
        "\"\"\"\n",
        "formatted_prompt = f\"{style_prompt}\\n{story_so_far}\"\n",
        "\n",
        "# Generate more text with formatted prompt\n",
        "generated_text = generator(formatted_prompt, max_new_tokens=500, num_return_sequences=1)\n",
        "story_so_far += generated_text[0]['generated_text']\n",
        "\n",
        "print(\"-\" * 20)\n",
        "print(\"Output 2:\")\n",
        "print(\"-\" * 20)\n",
        "print(story_so_far) # This will print the updated story with character and style influences\n"
      ],
      "metadata": {
        "colab": {
          "base_uri": "https://localhost:8080/"
        },
        "id": "oU2vlYBZb7F2",
        "outputId": "dc76e5fc-37db-43f4-ac30-a191d7f2f0af"
      },
      "execution_count": 21,
      "outputs": [
        {
          "output_type": "stream",
          "name": "stderr",
          "text": [
            "Setting `pad_token_id` to `eos_token_id`:50256 for open-end generation.\n"
          ]
        },
        {
          "output_type": "stream",
          "name": "stdout",
          "text": [
            "--------------------\n",
            "Output 2:\n",
            "--------------------\n",
            "\n",
            "The year is 2142. Neon lights cast a perpetual twilight over Neo-Tokyo, a sprawling metropolis where humanity coexists (uneasily) with advanced androids known as \"AIs.\" \n",
            "Cora, a brilliant but ostracized AI designer, works tirelessly in her cluttered apartment-lab, pushing the boundaries of synthetic intelligence. \n",
            "Despite facing discrimination and suspicion, Cora believes AIs can be more than just tools – they can be companions, even partners in progress. \n",
            "Her latest creation, codenamed \"Project Chimera,\" is unlike any AI before it. Chimera possesses a level of sentience and emotional capacity that blurs the lines between machine and human. \n",
            "However, a powerful corporation, known as the \"Syndicate,\" seeks to exploit Chimera's capabilities for military purposes. \n",
            "When Cora uncovers their plan, she knows she must act. \n",
            "But can she protect Chimera from a ruthless corporation with vast resources, and in the process, rewrite the future of humanity's relationship with AI?\n",
            " \n",
            "The rain beats against the window of Cora's dimly lit apartment-lab, casting distorted shadows across the cluttered workspace. \n",
            "In the neon glow of flickering holographic displays, Cora and Amelia exchange wary glances, their eyes betraying the weight of hidden agendas and unspoken secrets.\n",
            "Outside, the city hums with the relentless energy of progress, masking the danger lurking in the shadows of towering skyscrapers.\n",
            "As lightning flashes, illuminating the gleaming spires of corporate headquarters, a sense of foreboding hangs heavy in the air.\n",
            "Cora knows that their meeting tonight could unravel the carefully woven fabric of lies and deception, revealing the truth that lies at the heart of the city's darkest mysteries.\n",
            "\n",
            "\n",
            "The year is 2142. Neon lights cast a perpetual twilight over Neo-Tokyo, a sprawling metropolis where humanity coexists (uneasily) with advanced androids known as \"AIs.\" \n",
            "Cora, a brilliant but ostracized AI designer, works tirelessly in her cluttered apartment-lab, pushing the boundaries of synthetic intelligence. \n",
            "Despite facing discrimination and suspicion, Cora believes AIs can be more than just tools – they can be companions, even partners in progress. \n",
            "Her latest creation, codenamed \"Project Chimera,\" is unlike any AI before it. Chimera possesses a level of sentience and emotional capacity that blurs the lines between machine and human. \n",
            "However, a powerful corporation, known as the \"Syndicate,\" seeks to exploit Chimera's capabilities for military purposes. \n",
            "When Cora uncovers their plan, she knows she must act. \n",
            "But can she protect Chimera from a ruthless corporation with vast resources, and in the process, rewrite the future of humanity's relationship with AI?\n",
            " \n",
            "With a sense of purpose and a sense of urgency, Cora begins a series of self-confided projects known as a \"Collision Control\" campaign. \n",
            "When Crixian attacks the Neo-Tokyo complex from behind, she becomes entangled, and a single mistake can lead to a major setback for the empire's forces.\n",
            "Her project, The Matrix, follows her life and career as a hacker, but while she is at it, Cora also plans new plans for humanity — whether it be her plans to establish artificial intelligence that will allow humans to understand the world differently, or more clearly the dangers facing humanity today.\n",
            "Aided by an ever-changing corporate matrix, Cora is working in her new project, The Matrix II, to create artificially intelligent AI as long as the AIs exist on Earth. \n",
            "With one of her own, Cora travels back in time to the past to discover the true nature of the new system. \n",
            "In her first half-century combined with her new artificial intelligent AI, The Matrix II, Cora has discovered the true nature of artificial intelligence. \n",
            "As she seeks to prevent her future from being ruined by her new AI, Cora can no longer trust any of the corporation she believes to be honest. \n",
            "To her, humans are not the perfect people. \n",
            "Cora hopes the two-month \"Collision Control\" campaign will give her an excuse not to interfere in events for once, so she can focus her efforts on bringing her next project closer to humanity. There will be three different factions vying for this mission:\n",
            "Crixian, who runs one of the AIs: the New Neo-Tokyo, in the background. \n",
            "The Machine, the AI that is in deep conflict with herself, is in direct confrontation with the Machine, which is her boss: Crixian's New Neo-Tokyo. \n",
            "The Colony, a group of genetically engineered, engineered, human beings whose purpose would be to replace the AIs with machines.  \n",
            "One last colony, called Vibe, who believes itself a new colony founded on the strength of science; Cora finds the Colony's new leader, the Machine, and tells him her hope is to continue as its leader. \n",
            "Crixian tries to end the New Neo-Tokyo conflict with her own people, the Colony, and Vibe, but the Machine is too strong, allowing her to join\n"
          ]
        }
      ]
    },
    {
      "cell_type": "markdown",
      "source": [
        "# 5. Iterative Refinement (Manual Process):\n",
        "\n",
        "This involves human evaluation and analysis of the generated text to refine the prompts. It's not directly coded but managed through user interaction."
      ],
      "metadata": {
        "id": "0Qfps40TcLUn"
      }
    },
    {
      "cell_type": "markdown",
      "source": [
        "# 6. Conclusions"
      ],
      "metadata": {
        "id": "ltW5UIdXEsN1"
      }
    },
    {
      "cell_type": "markdown",
      "source": [
        "1. **Choosing the best model:**\n",
        "- First I tried to use the model `facebook/bart-base`, but the outcome was\n",
        "terrible.\n",
        "- Changing the model to `gpt2` showed a much better output."
      ],
      "metadata": {
        "id": "w92q7sRQj0tS"
      }
    },
    {
      "cell_type": "markdown",
      "source": [
        "2. **Approaches to enhance the output**\n",
        "- The first approach showed to be good at first, but I used only one prompt, `stage_prompt`. Since I would like to test with more information, I decided to deepen the studies and add more prompts, such as `character_prompt_Cora` and `style_prompt`\n",
        "\n",
        "- Before adding the additional prompts, I used some additional parameters to try to finetune the model; the result was quite bad:\n",
        "\n",
        "\n",
        "\n",
        "```\n",
        "Scene 1:\n",
        "The year is 2142. Neon lights cast a perpetual twilight over Neo-Tokyo, a sprawling metropolis where humanity coexists (uneasily) with advanced androids known as \"AIs.\"\n",
        "Cora, a brilliant but ostracized AI designer, works tirelessly in her cluttered apartment-lab, pushing the boundaries of synthetic intelligence.\n",
        "Despite facing discrimination and suspicion, Cora believes AIs can be more than just tools – they can be companions, even partners in progress.\n",
        "Her latest creation, codenamed \"Project Chimera,\" is unlike any AI before it. Chimera possesses a level of sentience and emotional capacity that blurs the lines between machine and human.\n",
        "However, a powerful corporation, known as the \"Syndicate,\" seeks to exploit Chimera's capabilities for military purposes.\n",
        "When Cora uncovers their plan, she knows she must act.\n",
        "But can she protect Chimera from a ruthless corporation with vast resources, and in the process, rewrite the future of humanity's relationship with AI?\n",
        "\n",
        "The story of the Chimera project begins in the early 1990s, when a group of scientists, led by a mysterious scientist named \"The Machine,\" began to develop a new form of AI called \"Neon-Tek.\"\n",
        "The Machine's goal was to create a new form of AI that could be used to control humans.\n",
        "The Machine's goal was to create a new form of AI that could be used to control humans.\n",
        "The Machine's goal was to create a new form of AI that could be used to control humans.\n",
        "The Machine's goal was to create a new form of AI that could be used to control humans.\n",
        "The Machine's goal was to create a new form of AI that could be used to control humans.\n",
        "The Machine's goal was to create a new form of AI that could be used to control humans.\n",
        "The Machine's goal was to create a new form of AI that could be used to control humans.\n",
        "```\n",
        "\n",
        "\n",
        "The initial prompt (`stage_prompt`) provides a good foundation for the story, but it might be too short for the model to generate a completely coherent continuation without introducing repetition or irrelevant information.\n",
        "\n",
        "I could have break down the scenes, adding more scenes, but I decided to add more details to the story through the character and through the style.\n",
        "\n",
        "Once I done that, the model responded much better.\n",
        "\n",
        "So, the common conclusion - I believe - is that the more context we give to the model, the better it develops the responses.\n",
        "\n"
      ],
      "metadata": {
        "id": "qcqIxSJVFTp5"
      }
    },
    {
      "cell_type": "markdown",
      "source": [
        "## 7. References\n",
        "\n",
        "1. [Complete Beginner’s Guide to Hugging Face LLM Tools](https://www.unite.ai/complete-beginners-guide-to-hugging-face-llm-tools/)\n",
        "2. [How to generate text: using different decoding methods for language generation with Transformers](https://huggingface.co/blog/how-to-generate)\n",
        "3. ChatGPT and Gemini\n",
        "4. StackOverFlow for some debugging"
      ],
      "metadata": {
        "id": "DFYRv2qgNEwf"
      }
    },
    {
      "cell_type": "markdown",
      "source": [
        "## My Profile\n",
        "\n",
        "You can take a look at my profile clicking here on my [Linkedin](www.linkedin.com/in/lorenamelodev) 🌐\n",
        "\n",
        "My Github can be found here: [Github](https://github.com/lorenamelos/) 💻\n",
        "\n",
        "And here is my portfolio (under construction): [Portfolio](https://troopl.com/lorenamelos) 🖌"
      ],
      "metadata": {
        "id": "7lZRfMBFU1v7"
      }
    },
    {
      "cell_type": "code",
      "source": [],
      "metadata": {
        "id": "g-GGeuOuW22L"
      },
      "execution_count": null,
      "outputs": []
    }
  ]
}